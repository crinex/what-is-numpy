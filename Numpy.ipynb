{
  "nbformat": 4,
  "nbformat_minor": 0,
  "metadata": {
    "colab": {
      "name": "Numpy.ipynb",
      "provenance": [],
      "authorship_tag": "ABX9TyP+GKMY+TqI6TGso5MpZDT5",
      "include_colab_link": true
    },
    "kernelspec": {
      "name": "python3",
      "display_name": "Python 3"
    }
  },
  "cells": [
    {
      "cell_type": "markdown",
      "metadata": {
        "id": "view-in-github",
        "colab_type": "text"
      },
      "source": [
        "<a href=\"https://colab.research.google.com/github/crinex/what-is-numpy/blob/main/Numpy.ipynb\" target=\"_parent\"><img src=\"https://colab.research.google.com/assets/colab-badge.svg\" alt=\"Open In Colab\"/></a>"
      ]
    },
    {
      "cell_type": "markdown",
      "metadata": {
        "id": "08Fc8bwfoqUf"
      },
      "source": [
        "## Numpy\n",
        "- Numpy는 수학, 과학 연산을 위한 파이썬 패키지이다.\n",
        "- Numerical + Python의 합성어이다."
      ]
    },
    {
      "cell_type": "markdown",
      "metadata": {
        "id": "ZsdV2_iOpCm6"
      },
      "source": [
        "### 기본 사용 방법\n",
        "- Numpy는 보통 숫자로 구성되는 Array는 모두 동일한 타입의 요소를 갖는다.\n",
        "- 음이 아닌 정수로 인덱싱된다."
      ]
    },
    {
      "cell_type": "code",
      "metadata": {
        "colab": {
          "base_uri": "https://localhost:8080/"
        },
        "id": "OQecYcconTAJ",
        "outputId": "86ec5565-5ffd-4d79-e1bb-bdb0dc09d4a6"
      },
      "source": [
        "import numpy as np\n",
        "\n",
        "x = np.array([1, 2, 3])\n",
        "x"
      ],
      "execution_count": 1,
      "outputs": [
        {
          "output_type": "execute_result",
          "data": {
            "text/plain": [
              "array([1, 2, 3])"
            ]
          },
          "metadata": {
            "tags": []
          },
          "execution_count": 1
        }
      ]
    },
    {
      "cell_type": "code",
      "metadata": {
        "colab": {
          "base_uri": "https://localhost:8080/"
        },
        "id": "TJ4s-LvwpXiL",
        "outputId": "bae44cf8-4270-40b5-ac96-7718cf2a4aab"
      },
      "source": [
        "# Numpy는 다양한 함수로 다양한 형태의 행렬을 만들 수 있다.\n",
        "a = np.zeros(3)\n",
        "b = np.ones((2, 3))\n",
        "\n",
        "print(a)\n",
        "print(b)"
      ],
      "execution_count": 2,
      "outputs": [
        {
          "output_type": "stream",
          "text": [
            "[0. 0. 0.]\n",
            "[[1. 1. 1.]\n",
            " [1. 1. 1.]]\n"
          ],
          "name": "stdout"
        }
      ]
    },
    {
      "cell_type": "markdown",
      "metadata": {
        "id": "-1beK-hlq_fH"
      },
      "source": [
        "### 수학 연산"
      ]
    },
    {
      "cell_type": "code",
      "metadata": {
        "colab": {
          "base_uri": "https://localhost:8080/"
        },
        "id": "EiV3Od6zq14w",
        "outputId": "1485e87d-8402-40dc-8aa2-fea4a10ed570"
      },
      "source": [
        "x = np.array([1.,2.,3.,4.])\n",
        "y = np.array([5.,6.,7.,8.])\n",
        "\n",
        "# 두 Array의 합\n",
        "print(np.add(x, y))\n",
        "# 두 Array의 곱\n",
        "print(np.multiply(x, y))\n",
        "# Array의 평균\n",
        "print(np.mean(x))"
      ],
      "execution_count": 5,
      "outputs": [
        {
          "output_type": "stream",
          "text": [
            "[ 6.  8. 10. 12.]\n",
            "[ 5. 12. 21. 32.]\n",
            "2.5\n"
          ],
          "name": "stdout"
        }
      ]
    },
    {
      "cell_type": "markdown",
      "metadata": {
        "id": "RjfldhMDrhQE"
      },
      "source": [
        "### 난수 생성\n",
        "- rand 함수는 0~1까지의 범위에서 균일한 분포를 갖는 숫자 샘플링\n",
        "- randn 함수는 표준정규분포를 갖는 숫자 샘플링"
      ]
    },
    {
      "cell_type": "code",
      "metadata": {
        "colab": {
          "base_uri": "https://localhost:8080/"
        },
        "id": "r9-fhSFqrZZS",
        "outputId": "96b30c91-d817-4bcd-dbd6-efdc4cfcb9c9"
      },
      "source": [
        "x = np.random.rand(2, 5)\n",
        "y = np.random.randn(3, 4)\n",
        "\n",
        "print(x)\n",
        "print(y)"
      ],
      "execution_count": 6,
      "outputs": [
        {
          "output_type": "stream",
          "text": [
            "[[0.58497301 0.02671962 0.00287282 0.10646867 0.53911534]\n",
            " [0.87749374 0.12087335 0.85068104 0.56790274 0.13057793]]\n",
            "[[-1.2608639   0.77337739  1.89984148  2.49092282]\n",
            " [-1.23096063 -0.77149982  1.03182675  0.58373308]\n",
            " [ 1.35110238 -0.54122385  0.84248547  1.36324682]]\n"
          ],
          "name": "stdout"
        }
      ]
    },
    {
      "cell_type": "markdown",
      "metadata": {
        "id": "R3zF-Jhlscvt"
      },
      "source": [
        "## Array 생성하기\n",
        "- np.array()함수에 파이썬 리스트, 튜플을 입력하면 Numpy의 Array가 만들어진다."
      ]
    },
    {
      "cell_type": "code",
      "metadata": {
        "colab": {
          "base_uri": "https://localhost:8080/"
        },
        "id": "6bVLQK-arqSV",
        "outputId": "4a802c88-6cc9-4dec-c94b-0d104bdea605"
      },
      "source": [
        "a = np.array([1, 2, 3])\n",
        "\n",
        "print(a)         # a안에 들어있는 데이터\n",
        "print(a.shape)   # a의 크기\n",
        "print(type(a))   # a의 자료형\n",
        "print(a.dtype)   # a 요소의 데이터 타입(자료형)"
      ],
      "execution_count": 7,
      "outputs": [
        {
          "output_type": "stream",
          "text": [
            "[1 2 3]\n",
            "(3,)\n",
            "<class 'numpy.ndarray'>\n",
            "int64\n"
          ],
          "name": "stdout"
        }
      ]
    },
    {
      "cell_type": "markdown",
      "metadata": {
        "id": "3Vuzg3aftuu8"
      },
      "source": [
        "## Arange 생성하기\n",
        "- np.arange는 연속적인 숫자를 만들기 위한 함수로 파이썬의 range()와 비슷한 함수다.\n",
        "- 리스트대신 어레이를 반환값으로 준다."
      ]
    },
    {
      "cell_type": "code",
      "metadata": {
        "colab": {
          "base_uri": "https://localhost:8080/"
        },
        "id": "ptcWOcEqs_Zl",
        "outputId": "4777e827-5ead-4055-ca2f-e6b3ddfdd666"
      },
      "source": [
        "# 0부터 5까지 step=1을 기준으로 어레이 생성\n",
        "x = np.arange(0, 5, 1)\n",
        "x"
      ],
      "execution_count": 8,
      "outputs": [
        {
          "output_type": "execute_result",
          "data": {
            "text/plain": [
              "array([0, 1, 2, 3, 4])"
            ]
          },
          "metadata": {
            "tags": []
          },
          "execution_count": 8
        }
      ]
    },
    {
      "cell_type": "code",
      "metadata": {
        "id": "11FbpjpguGY0"
      },
      "source": [
        ""
      ],
      "execution_count": null,
      "outputs": []
    }
  ]
}